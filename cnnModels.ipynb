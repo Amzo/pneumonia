{
  "nbformat": 4,
  "nbformat_minor": 0,
  "metadata": {
    "colab": {
      "name": "Copy of modelCNN.ipynb",
      "provenance": [],
      "toc_visible": true
    },
    "kernelspec": {
      "name": "python3",
      "display_name": "Python 3"
    },
    "language_info": {
      "name": "python"
    },
    "accelerator": "GPU"
  },
  "cells": [
    {
      "cell_type": "markdown",
      "metadata": {
        "id": "pfKWvoZkAo_6"
      },
      "source": [
        "Import our essential Libraries\n"
      ]
    },
    {
      "cell_type": "code",
      "metadata": {
        "id": "AG7rSodLIfxn"
      },
      "source": [
        "import os\n",
        "import tensorflow as tf\n",
        "from tensorflow.keras.preprocessing.image import ImageDataGenerator, img_to_array, load_img\n",
        "from tensorflow.keras.applications.xception import Xception\n",
        "from tensorflow.keras.models import Sequential\n",
        "from tensorflow.keras.layers import Dense, Conv2D, MaxPooling2D, Dropout, Flatten, MaxPool2D, BatchNormalization, GlobalAveragePooling2D, Input, Activation\n",
        "from tensorflow.keras.applications.resnet_v2 import ResNet50V2\n",
        "from tensorflow.keras.applications.vgg16 import VGG16"
      ],
      "execution_count": null,
      "outputs": []
    },
    {
      "cell_type": "markdown",
      "metadata": {
        "id": "htMf_OM36V8Q"
      },
      "source": [
        "Mount your google drive so that the dataset can be cloned to it from the git."
      ]
    },
    {
      "cell_type": "code",
      "metadata": {
        "id": "qa16X9K30vzd",
        "colab": {
          "base_uri": "https://localhost:8080/"
        },
        "outputId": "637e380f-fd5f-4103-a3c8-21fa99bf7e61"
      },
      "source": [
        "from google.colab import drive\n",
        "drive.mount('/content/gdrive')"
      ],
      "execution_count": null,
      "outputs": [
        {
          "output_type": "stream",
          "text": [
            "Mounted at /content/gdrive\n"
          ],
          "name": "stdout"
        }
      ]
    },
    {
      "cell_type": "markdown",
      "metadata": {
        "id": "1GeonvJs6c_S"
      },
      "source": [
        "Some shell script to check if the data already exists, if not clone it from git.\n",
        "\n"
      ]
    },
    {
      "cell_type": "code",
      "metadata": {
        "id": "7_Spt-nH09kc"
      },
      "source": [
        "!if [ ! -d '/content/gdrive/MyDrive/pneumoniaDataset' ]; then mkdir '/content/gdrive/MyDrive/pneumoniaDataset'; fi\n",
        "\n",
        "\n",
        "!if [ ! -d '/content/gdrive/MyDrive/pneumoniaDataset/.git' ]; then git clone \"https://github.com/Amzo/xray_images\" '/content/gdrive/MyDrive/pneumoniaDataset/'; fi"
      ],
      "execution_count": null,
      "outputs": []
    },
    {
      "cell_type": "markdown",
      "metadata": {
        "id": "yBBFNcZTIhNH"
      },
      "source": [
        "Load our data and generate additional augmented data due to the nature of the small data set. Since the data is already structured into train, test and validate folders, we don't need to split the data here.\n"
      ]
    },
    {
      "cell_type": "code",
      "metadata": {
        "id": "RVNUu9ZmIs_n"
      },
      "source": [
        "def getData(trainDir, testDir, valDir):\n",
        "        class_names = os.listdir(trainDir)\n",
        "        class_types = len(os.listdir(trainDir))\n",
        "\n",
        "        print('Number of classes for Classification: ',class_types)\n",
        "        print(f'The class names are {class_names[0]} and {class_names[1]}')\n",
        "        print('--> Count of Train Images <--')\n",
        "\n",
        "        for i in class_names:\n",
        "                print(i + ':' + str(len(os.listdir(trainDir + \"/\" +i))))\n",
        "        print('--> Count of Test Images <--')\n",
        "\n",
        "        for i in class_names:\n",
        "                print(i + ':' + str(len(os.listdir(testDir + '/' +i))))\n",
        "\n",
        "        print('--> Count of Validation Images <---')\n",
        "        for i in class_names:\n",
        "                print(i + ':' + str(len(os.listdir(valDir + '/' +i))))\n",
        "\n",
        "        train_datagen = ImageDataGenerator(\n",
        "                rescale=1/255.0,\n",
        "                rotation_range=7,\n",
        "                width_shift_range=0.5,\n",
        "                height_shift_range=0.45,\n",
        "                shear_range=0.2,\n",
        "                zoom_range=0.45,\n",
        "                horizontal_flip=True\n",
        "        )\n",
        "\n",
        "        test_datagen = ImageDataGenerator(rescale=1./255)\n",
        "\n",
        "        xTrainGen = train_datagen.flow_from_directory(\n",
        "                trainDir,\n",
        "                target_size=(224,224),\n",
        "                shuffle=True,\n",
        "                batch_size=24,\n",
        "                class_mode='binary'\n",
        "        )\n",
        "\n",
        "        xTestGen = test_datagen.flow_from_directory(\n",
        "                testDir,\n",
        "                target_size=(224,224),\n",
        "                batch_size=16,\n",
        "                shuffle=True,\n",
        "                class_mode='binary'\n",
        "        )\n",
        "\n",
        "        xValGen = train_datagen.flow_from_directory(\n",
        "                valDir,\n",
        "                target_size=(224,224),\n",
        "                batch_size=32,\n",
        "                class_mode='binary'\n",
        "        )\n",
        "\n",
        "        return xTrainGen, xTestGen, xValGen"
      ],
      "execution_count": null,
      "outputs": []
    },
    {
      "cell_type": "code",
      "metadata": {
        "id": "zAxXDWXii2e-"
      },
      "source": [
        "def myModel():\n",
        "  print(\"Defaulting to basic CNN\")\n",
        "  model = Sequential()\n",
        "  model.add(Conv2D(64, (3, 3), activation='relu', kernel_initializer='he_uniform', padding='same', input_shape=(224,224,3)))\n",
        "  model.add(MaxPooling2D((2, 2)))\n",
        "  model.add(Conv2D(64, (3, 3), activation='relu', kernel_initializer='he_uniform', padding='same'))\n",
        "  model.add(BatchNormalization())\n",
        "  model.add(MaxPooling2D((2, 2)))\n",
        "  model.add(Dropout(0.5))\n",
        "  model.add(Conv2D(128, (3, 3), activation='relu', kernel_initializer='he_uniform', padding='same'))\n",
        "  model.add(BatchNormalization())\n",
        "  model.add(Conv2D(128, (3, 3), activation='relu', kernel_initializer='he_uniform', padding='same'))\n",
        "  model.add(BatchNormalization())\n",
        "  model.add(MaxPooling2D((2, 2)))\n",
        "  model.add(Dropout(0.6))\n",
        "  model.add(Conv2D(256, (3, 3), activation='relu', kernel_initializer='he_uniform', padding='same'))\n",
        "  model.add(BatchNormalization())\n",
        "  model.add(Conv2D(256, (3, 3), activation='relu', kernel_initializer='he_uniform', padding='same'))\n",
        "  model.add(BatchNormalization())\n",
        "  model.add(MaxPooling2D((2, 2)))\n",
        "  model.add(Dropout(0.7))\n",
        "  model.add(Flatten())\n",
        "  model.add(Dense(128, activation='relu', kernel_initializer='he_uniform'))\n",
        "  model.add(BatchNormalization())\n",
        "  model.add(Dropout(0.2))\n",
        "  model.add(Dense(1,activation='sigmoid'))\n",
        "\n",
        "  model.compile(optimizer=tf.keras.optimizers.RMSprop(lr=0.0001),\n",
        "    loss=\"binary_crossentropy\",\n",
        "    metrics=[\"accuracy\"])\n",
        "  \n",
        "  return model"
      ],
      "execution_count": null,
      "outputs": []
    },
    {
      "cell_type": "markdown",
      "metadata": {
        "id": "l6cUN-KwBIA4"
      },
      "source": [
        "Create an Exception model. This model needs a lot of resources and will not run on my system.\n",
        "\n",
        "Using RMSprop optimiser and setting a learning rate to 0.0001. As our classification is either true or false, E.G they have something or they don't, use binary_crossentropy.\n"
      ]
    },
    {
      "cell_type": "code",
      "metadata": {
        "id": "NB4tKR7-IzTY"
      },
      "source": [
        "def modelBuild(inputShape, modelType):\n",
        "  model = Sequential()\n",
        "  if (modelType == \"xception\"):\n",
        "    print(\"Setting up xception model\")\n",
        "    xception = Xception(include_top=False,\n",
        "      weights= 'imagenet',\n",
        "      input_shape=inputShape,\n",
        "    )\n",
        "    model.add(xception)\n",
        "\n",
        "  elif (modelType == \"resnet\"):\n",
        "    print(\"Setting up resnet50 model\")\n",
        "    resnet = ResNet50V2(include_top=False,\n",
        "      weights= 'imagenet',\n",
        "      input_shape=inputShape,\n",
        "    )\n",
        "    model.add(resnet)\n",
        "\n",
        "  elif (modelType == \"vgg16\"):\n",
        "    print(\"Setting up vgg16 model\")\n",
        "    vgg = VGG16(include_top=False,\n",
        "      weights= 'imagenet',\n",
        "      input_shape=inputShape,\n",
        "    )\n",
        "    model.add(vgg)\n",
        "\n",
        "  model.add(Flatten())\n",
        "  model.add(Dense(512, activation=\"relu\"))\n",
        "  model.add(Dense(1,activation=\"sigmoid\"))\n",
        "\n",
        "  model.compile(optimizer=tf.keras.optimizers.RMSprop(lr=0.0001),\n",
        "    loss=\"binary_crossentropy\",\n",
        "    metrics=[\"accuracy\"])\n",
        "\n",
        "  return model\n"
      ],
      "execution_count": null,
      "outputs": []
    },
    {
      "cell_type": "code",
      "metadata": {
        "id": "9DkFgq_jJZoo"
      },
      "source": [
        "def modelTrain(model, xTrain, xVal, batchSize):\n",
        "  model.fit(xTrain,\n",
        "    epochs=10,\n",
        "    validation_data=xVal,\n",
        "    verbose=1,\n",
        "    batch_size=batchSize\n",
        "  )\n",
        "\n",
        "  return model\n"
      ],
      "execution_count": null,
      "outputs": []
    },
    {
      "cell_type": "code",
      "metadata": {
        "colab": {
          "base_uri": "https://localhost:8080/"
        },
        "id": "NAVccqMPJuE5",
        "outputId": "0faf3609-6db4-4107-fc76-3393c7c9728b"
      },
      "source": [
        "physical_devices = tf.config.experimental.list_physical_devices('GPU')\n",
        "assert len(physical_devices) > 0, \"Not enough GPU hardware devices available\"\n",
        "\n",
        "\n",
        "inputTrain = '/content/gdrive/MyDrive/pneumoniaDataset/train'\n",
        "inputTest = '/content/gdrive/MyDrive/pneumoniaDataset/test'\n",
        "inputValidate = '/content/gdrive/MyDrive/pneumoniaDataset/val'\n",
        "imageSize = (224,224,3)\n",
        "\n",
        "xTrain, xTest, xVal = getData(inputTrain, inputTest, inputValidate)\n"
      ],
      "execution_count": null,
      "outputs": [
        {
          "output_type": "stream",
          "text": [
            "Number of classes for Classification:  2\n",
            "The class names are NORMAL and PNEUMONIA\n",
            "--> Count of Train Images <--\n",
            "NORMAL:1305\n",
            "PNEUMONIA:3851\n",
            "--> Count of Test Images <--\n",
            "NORMAL:234\n",
            "PNEUMONIA:390\n",
            "--> Count of Validation Images <---\n",
            "NORMAL:44\n",
            "PNEUMONIA:32\n",
            "Found 5156 images belonging to 2 classes.\n",
            "Found 624 images belonging to 2 classes.\n",
            "Found 76 images belonging to 2 classes.\n"
          ],
          "name": "stdout"
        }
      ]
    },
    {
      "cell_type": "code",
      "metadata": {
        "colab": {
          "base_uri": "https://localhost:8080/"
        },
        "id": "qaCaLFPwWeC4",
        "outputId": "5336f110-a1ae-42d8-abc7-a00be502b018"
      },
      "source": [
        "xception = modelBuild(imageSize, 'xception')\n",
        "vgg16 = modelBuild(imageSize, 'vgg16')\n",
        "resnet = modelBuild(imageSize, 'resnet')\n",
        "myCNN = myModel()\n",
        "\n"
      ],
      "execution_count": null,
      "outputs": [
        {
          "output_type": "stream",
          "text": [
            "Setting up xception model\n",
            "Downloading data from https://storage.googleapis.com/tensorflow/keras-applications/xception/xception_weights_tf_dim_ordering_tf_kernels_notop.h5\n",
            "83689472/83683744 [==============================] - 1s 0us/step\n",
            "Setting up vgg16 model\n",
            "Downloading data from https://storage.googleapis.com/tensorflow/keras-applications/vgg16/vgg16_weights_tf_dim_ordering_tf_kernels_notop.h5\n",
            "58892288/58889256 [==============================] - 0s 0us/step\n",
            "Setting up resnet50 model\n",
            "Downloading data from https://storage.googleapis.com/tensorflow/keras-applications/resnet/resnet50v2_weights_tf_dim_ordering_tf_kernels_notop.h5\n",
            "94674944/94668760 [==============================] - 1s 0us/step\n",
            "Defaulting to basic CNN\n"
          ],
          "name": "stdout"
        }
      ]
    },
    {
      "cell_type": "code",
      "metadata": {
        "colab": {
          "base_uri": "https://localhost:8080/"
        },
        "id": "zVv-d5DQW66n",
        "outputId": "b17ea0e8-5eb4-4183-cceb-a98484ac0826"
      },
      "source": [
        "trainedVGG = modelTrain(vgg16, xTrain, xVal, 32)\n"
      ],
      "execution_count": null,
      "outputs": [
        {
          "output_type": "stream",
          "text": [
            "Epoch 1/10\n",
            "215/215 [==============================] - 1386s 6s/step - loss: 0.5978 - accuracy: 0.7490 - val_loss: 0.5420 - val_accuracy: 0.7763\n",
            "Epoch 2/10\n",
            "215/215 [==============================] - 130s 603ms/step - loss: 0.3395 - accuracy: 0.8497 - val_loss: 0.6662 - val_accuracy: 0.8553\n",
            "Epoch 3/10\n",
            "215/215 [==============================] - 130s 602ms/step - loss: 0.3196 - accuracy: 0.8650 - val_loss: 0.3225 - val_accuracy: 0.8816\n",
            "Epoch 4/10\n",
            "215/215 [==============================] - 129s 600ms/step - loss: 0.2999 - accuracy: 0.8911 - val_loss: 0.4017 - val_accuracy: 0.8684\n",
            "Epoch 5/10\n",
            "215/215 [==============================] - 129s 597ms/step - loss: 0.2799 - accuracy: 0.8870 - val_loss: 0.9169 - val_accuracy: 0.7237\n",
            "Epoch 6/10\n",
            "215/215 [==============================] - 129s 600ms/step - loss: 0.2765 - accuracy: 0.8849 - val_loss: 0.4457 - val_accuracy: 0.8158\n",
            "Epoch 7/10\n",
            "215/215 [==============================] - 129s 597ms/step - loss: 0.2858 - accuracy: 0.8996 - val_loss: 0.4848 - val_accuracy: 0.8289\n",
            "Epoch 8/10\n",
            "215/215 [==============================] - 129s 597ms/step - loss: 0.2821 - accuracy: 0.8980 - val_loss: 0.4767 - val_accuracy: 0.8684\n",
            "Epoch 9/10\n",
            "133/215 [=================>............] - ETA: 48s - loss: 0.3199 - accuracy: 0.8894"
          ],
          "name": "stdout"
        }
      ]
    },
    {
      "cell_type": "code",
      "metadata": {
        "colab": {
          "base_uri": "https://localhost:8080/"
        },
        "id": "fNKvW-xEdfze",
        "outputId": "efd66865-41cb-45d7-ea79-83052eb56299"
      },
      "source": [
        "trainedResnet = modelTrain(resnet, xTrain, xVal, 32)"
      ],
      "execution_count": null,
      "outputs": [
        {
          "output_type": "stream",
          "text": [
            "Epoch 1/10\n",
            "215/215 [==============================] - 137s 587ms/step - loss: 0.7759 - accuracy: 0.8545 - val_loss: 44.3392 - val_accuracy: 0.5000\n",
            "Epoch 2/10\n",
            "215/215 [==============================] - 123s 570ms/step - loss: 0.2020 - accuracy: 0.9263 - val_loss: 114.5923 - val_accuracy: 0.9079\n",
            "Epoch 3/10\n",
            "215/215 [==============================] - 122s 568ms/step - loss: 0.1593 - accuracy: 0.9502 - val_loss: 804.1523 - val_accuracy: 0.5000\n",
            "Epoch 4/10\n",
            "215/215 [==============================] - 123s 570ms/step - loss: 0.1691 - accuracy: 0.9485 - val_loss: 0.1552 - val_accuracy: 0.9737\n",
            "Epoch 5/10\n",
            "215/215 [==============================] - 122s 569ms/step - loss: 0.4682 - accuracy: 0.9574 - val_loss: 0.4239 - val_accuracy: 0.9211\n",
            "Epoch 6/10\n",
            "215/215 [==============================] - 123s 570ms/step - loss: 0.1442 - accuracy: 0.9541 - val_loss: 1.0283 - val_accuracy: 0.8947\n",
            "Epoch 7/10\n",
            "215/215 [==============================] - 123s 569ms/step - loss: 0.1523 - accuracy: 0.9515 - val_loss: 27.7963 - val_accuracy: 0.7895\n",
            "Epoch 8/10\n",
            "215/215 [==============================] - 123s 570ms/step - loss: 0.1411 - accuracy: 0.9508 - val_loss: 1.7142 - val_accuracy: 0.7368\n",
            "Epoch 9/10\n",
            "215/215 [==============================] - 122s 567ms/step - loss: 0.1419 - accuracy: 0.9605 - val_loss: 171.1203 - val_accuracy: 0.4868\n",
            "Epoch 10/10\n",
            "215/215 [==============================] - 122s 568ms/step - loss: 0.1379 - accuracy: 0.9561 - val_loss: 0.1902 - val_accuracy: 0.9342\n"
          ],
          "name": "stdout"
        }
      ]
    },
    {
      "cell_type": "code",
      "metadata": {
        "colab": {
          "base_uri": "https://localhost:8080/"
        },
        "id": "5rZf1FgsjtZH",
        "outputId": "0f1fb4db-cc53-452d-9378-36417b072dab"
      },
      "source": [
        "trainedCNN = modelTrain(myCNN, xTrain, xVal, 32)"
      ],
      "execution_count": null,
      "outputs": [
        {
          "output_type": "stream",
          "text": [
            "Epoch 1/10\n",
            "215/215 [==============================] - 112s 513ms/step - loss: 0.8370 - accuracy: 0.5899 - val_loss: 2.3719 - val_accuracy: 0.4211\n",
            "Epoch 2/10\n",
            "215/215 [==============================] - 110s 510ms/step - loss: 0.5795 - accuracy: 0.7193 - val_loss: 1.0787 - val_accuracy: 0.5395\n",
            "Epoch 3/10\n",
            "215/215 [==============================] - 110s 510ms/step - loss: 0.4418 - accuracy: 0.7965 - val_loss: 1.4338 - val_accuracy: 0.4342\n",
            "Epoch 4/10\n",
            "215/215 [==============================] - 109s 509ms/step - loss: 0.3764 - accuracy: 0.8308 - val_loss: 3.0499 - val_accuracy: 0.4474\n",
            "Epoch 5/10\n",
            "215/215 [==============================] - 110s 512ms/step - loss: 0.3529 - accuracy: 0.8500 - val_loss: 2.3699 - val_accuracy: 0.4342\n",
            "Epoch 6/10\n",
            "215/215 [==============================] - 110s 510ms/step - loss: 0.3216 - accuracy: 0.8645 - val_loss: 3.6166 - val_accuracy: 0.4211\n",
            "Epoch 7/10\n",
            "215/215 [==============================] - 109s 509ms/step - loss: 0.3312 - accuracy: 0.8606 - val_loss: 1.6837 - val_accuracy: 0.4211\n",
            "Epoch 8/10\n",
            "215/215 [==============================] - 110s 511ms/step - loss: 0.2910 - accuracy: 0.8710 - val_loss: 1.9497 - val_accuracy: 0.4342\n",
            "Epoch 9/10\n",
            "215/215 [==============================] - 110s 511ms/step - loss: 0.2775 - accuracy: 0.8776 - val_loss: 0.8879 - val_accuracy: 0.7237\n",
            "Epoch 10/10\n",
            "215/215 [==============================] - 110s 510ms/step - loss: 0.2746 - accuracy: 0.8840 - val_loss: 2.3611 - val_accuracy: 0.4211\n"
          ],
          "name": "stdout"
        }
      ]
    },
    {
      "cell_type": "code",
      "metadata": {
        "colab": {
          "base_uri": "https://localhost:8080/"
        },
        "id": "U5qH-s05GW6Q",
        "outputId": "6457e4d6-1f5f-46cc-f743-a691233ee244"
      },
      "source": [
        "trainedXception = modelTrain(xception, xTrain, xVal, 32)"
      ],
      "execution_count": null,
      "outputs": [
        {
          "output_type": "stream",
          "text": [
            "Epoch 1/10\n",
            "215/215 [==============================] - 156s 676ms/step - loss: 0.6786 - accuracy: 0.8554 - val_loss: 4.5295 - val_accuracy: 0.6053\n",
            "Epoch 2/10\n",
            "215/215 [==============================] - 141s 654ms/step - loss: 0.1503 - accuracy: 0.9487 - val_loss: 4.6786 - val_accuracy: 0.7105\n",
            "Epoch 3/10\n",
            "215/215 [==============================] - 141s 655ms/step - loss: 0.1422 - accuracy: 0.9615 - val_loss: 1.7767 - val_accuracy: 0.8816\n",
            "Epoch 4/10\n",
            "215/215 [==============================] - 141s 655ms/step - loss: 0.1106 - accuracy: 0.9650 - val_loss: 4.1040 - val_accuracy: 0.8289\n",
            "Epoch 5/10\n",
            "215/215 [==============================] - 141s 653ms/step - loss: 0.1116 - accuracy: 0.9611 - val_loss: 0.6023 - val_accuracy: 0.9474\n",
            "Epoch 6/10\n",
            "215/215 [==============================] - 141s 656ms/step - loss: 0.1054 - accuracy: 0.9632 - val_loss: 1.5675 - val_accuracy: 0.8421\n",
            "Epoch 7/10\n",
            "215/215 [==============================] - 141s 654ms/step - loss: 0.0928 - accuracy: 0.9681 - val_loss: 13.2958 - val_accuracy: 0.8947\n",
            "Epoch 8/10\n",
            "215/215 [==============================] - 141s 654ms/step - loss: 0.1117 - accuracy: 0.9690 - val_loss: 1.6770 - val_accuracy: 0.9079\n",
            "Epoch 9/10\n",
            "215/215 [==============================] - 141s 653ms/step - loss: 0.0958 - accuracy: 0.9730 - val_loss: 2.9246 - val_accuracy: 0.8947\n",
            "Epoch 10/10\n",
            "215/215 [==============================] - 141s 656ms/step - loss: 0.0897 - accuracy: 0.9734 - val_loss: 0.4060 - val_accuracy: 0.9605\n"
          ],
          "name": "stdout"
        }
      ]
    },
    {
      "cell_type": "code",
      "metadata": {
        "colab": {
          "base_uri": "https://localhost:8080/",
          "height": 271
        },
        "id": "GkVU2VqwgLiZ",
        "outputId": "1c13943b-7204-4e35-8cb9-186dc99b5992"
      },
      "source": [
        "print(\"Running Xception model against test set\")\n",
        "ev = trainedXception.evaluate(xTest)\n",
        "print(\"\\n%s: %.f%%\" % (trainedXception.metrics_names[1], ev[1]*100))\n",
        "print(\"Running VGG16 model against test set\")\n",
        "ev = trainedVGG.evaluate(xTest)\n",
        "print(\"\\n%s: %.f%%\" % (trainedVGG.metrics_names[1], ev[1]*100))\n",
        "print(\"Running resnet model against test set\")\n",
        "ev = trainedResnet.evaluate(xTest)\n",
        "print(\"\\n%s: %.f%%\" % (trainedResnet.metrics_names[1], ev[1]*100))\n",
        "print(\"Running myCNN model against test set\")\n",
        "ev = trainedCNN.evaluate(xTest)\n",
        "print(\"\\n%s: %.f%%\" % (trainedCNN.metrics_names[1], ev[1]*100))"
      ],
      "execution_count": null,
      "outputs": [
        {
          "output_type": "stream",
          "text": [
            "Running Xception model against test set\n"
          ],
          "name": "stdout"
        },
        {
          "output_type": "error",
          "ename": "NameError",
          "evalue": "ignored",
          "traceback": [
            "\u001b[0;31m---------------------------------------------------------------------------\u001b[0m",
            "\u001b[0;31mNameError\u001b[0m                                 Traceback (most recent call last)",
            "\u001b[0;32m<ipython-input-2-dd0700ebea30>\u001b[0m in \u001b[0;36m<module>\u001b[0;34m()\u001b[0m\n\u001b[1;32m      1\u001b[0m \u001b[0mprint\u001b[0m\u001b[0;34m(\u001b[0m\u001b[0;34m\"Running Xception model against test set\"\u001b[0m\u001b[0;34m)\u001b[0m\u001b[0;34m\u001b[0m\u001b[0;34m\u001b[0m\u001b[0m\n\u001b[0;32m----> 2\u001b[0;31m \u001b[0mev\u001b[0m \u001b[0;34m=\u001b[0m \u001b[0mtrainedXception\u001b[0m\u001b[0;34m.\u001b[0m\u001b[0mevaluate\u001b[0m\u001b[0;34m(\u001b[0m\u001b[0mxTest\u001b[0m\u001b[0;34m)\u001b[0m\u001b[0;34m\u001b[0m\u001b[0;34m\u001b[0m\u001b[0m\n\u001b[0m\u001b[1;32m      3\u001b[0m \u001b[0mprint\u001b[0m\u001b[0;34m(\u001b[0m\u001b[0;34m\"\\n%s: %.f%%\"\u001b[0m \u001b[0;34m%\u001b[0m \u001b[0;34m(\u001b[0m\u001b[0mtrainedXception\u001b[0m\u001b[0;34m.\u001b[0m\u001b[0mmetrics_names\u001b[0m\u001b[0;34m[\u001b[0m\u001b[0;36m1\u001b[0m\u001b[0;34m]\u001b[0m\u001b[0;34m,\u001b[0m \u001b[0mev\u001b[0m\u001b[0;34m[\u001b[0m\u001b[0;36m1\u001b[0m\u001b[0;34m]\u001b[0m\u001b[0;34m*\u001b[0m\u001b[0;36m100\u001b[0m\u001b[0;34m)\u001b[0m\u001b[0;34m)\u001b[0m\u001b[0;34m\u001b[0m\u001b[0;34m\u001b[0m\u001b[0m\n\u001b[1;32m      4\u001b[0m \u001b[0mprint\u001b[0m\u001b[0;34m(\u001b[0m\u001b[0;34m\"Running VGG16 model against test set\"\u001b[0m\u001b[0;34m)\u001b[0m\u001b[0;34m\u001b[0m\u001b[0;34m\u001b[0m\u001b[0m\n\u001b[1;32m      5\u001b[0m \u001b[0mev\u001b[0m \u001b[0;34m=\u001b[0m \u001b[0mtrainedVGG\u001b[0m\u001b[0;34m.\u001b[0m\u001b[0mevaluate\u001b[0m\u001b[0;34m(\u001b[0m\u001b[0mxTest\u001b[0m\u001b[0;34m)\u001b[0m\u001b[0;34m\u001b[0m\u001b[0;34m\u001b[0m\u001b[0m\n",
            "\u001b[0;31mNameError\u001b[0m: name 'trainedXception' is not defined"
          ]
        }
      ]
    },
    {
      "cell_type": "code",
      "metadata": {
        "colab": {
          "base_uri": "https://localhost:8080/",
          "height": 233
        },
        "id": "5H7hw9ONlDBY",
        "outputId": "a473e445-e4cd-4cfb-c897-7b4dc2e3148c"
      },
      "source": [
        "trainedXception.save('/content/drive/MyDrive/inception')\n",
        "trainedVGG.save('/content/drive/MyDrive/VGG')\n",
        "trainedResnet.save('/content/drive/MyDrive/Resnet')\n",
        "trainedCNN.save('/content/drive/MyDrive/myCNN')"
      ],
      "execution_count": null,
      "outputs": [
        {
          "output_type": "error",
          "ename": "NameError",
          "evalue": "ignored",
          "traceback": [
            "\u001b[0;31m---------------------------------------------------------------------------\u001b[0m",
            "\u001b[0;31mNameError\u001b[0m                                 Traceback (most recent call last)",
            "\u001b[0;32m<ipython-input-1-827e2088c00d>\u001b[0m in \u001b[0;36m<module>\u001b[0;34m()\u001b[0m\n\u001b[0;32m----> 1\u001b[0;31m \u001b[0mtrainedXception\u001b[0m\u001b[0;34m.\u001b[0m\u001b[0msave\u001b[0m\u001b[0;34m(\u001b[0m\u001b[0;34m'/content/drive/MyDrive/inception'\u001b[0m\u001b[0;34m)\u001b[0m\u001b[0;34m\u001b[0m\u001b[0;34m\u001b[0m\u001b[0m\n\u001b[0m\u001b[1;32m      2\u001b[0m \u001b[0mtrainedVGG\u001b[0m\u001b[0;34m.\u001b[0m\u001b[0msave\u001b[0m\u001b[0;34m(\u001b[0m\u001b[0;34m'/content/drive/MyDrive/VGG'\u001b[0m\u001b[0;34m)\u001b[0m\u001b[0;34m\u001b[0m\u001b[0;34m\u001b[0m\u001b[0m\n\u001b[1;32m      3\u001b[0m \u001b[0mtrainedResnet\u001b[0m\u001b[0;34m.\u001b[0m\u001b[0msave\u001b[0m\u001b[0;34m(\u001b[0m\u001b[0;34m'/content/drive/MyDrive/Resnet'\u001b[0m\u001b[0;34m)\u001b[0m\u001b[0;34m\u001b[0m\u001b[0;34m\u001b[0m\u001b[0m\n\u001b[1;32m      4\u001b[0m \u001b[0mtrainedCNN\u001b[0m\u001b[0;34m.\u001b[0m\u001b[0msave\u001b[0m\u001b[0;34m(\u001b[0m\u001b[0;34m'/content/drive/MyDrive/myCNN'\u001b[0m\u001b[0;34m)\u001b[0m\u001b[0;34m\u001b[0m\u001b[0;34m\u001b[0m\u001b[0m\n",
            "\u001b[0;31mNameError\u001b[0m: name 'trainedXception' is not defined"
          ]
        }
      ]
    }
  ]
}