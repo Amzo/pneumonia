{
  "nbformat": 4,
  "nbformat_minor": 0,
  "metadata": {
    "colab": {
      "name": "modelCNN.ipynb",
      "provenance": [],
      "collapsed_sections": [
        "dTafmHjGPelh",
        "wPXRjxElvAUN",
        "yst13qUP7EpW",
        "Rj1yHyb6JCYF",
        "SKW_CwJXBVdJ",
        "2VCGKVPnD7oZ",
        "BK7WVyUAGP2q"
      ],
      "include_colab_link": true
    },
    "kernelspec": {
      "name": "python3",
      "display_name": "Python 3"
    },
    "language_info": {
      "name": "python"
    },
    "accelerator": "GPU"
  },
  "cells": [
    {
      "cell_type": "markdown",
      "metadata": {
        "id": "view-in-github",
        "colab_type": "text"
      },
      "source": [
        "<a href=\"https://colab.research.google.com/github/Amzo/pneumonia/blob/main/modelCNN.ipynb\" target=\"_parent\"><img src=\"https://colab.research.google.com/assets/colab-badge.svg\" alt=\"Open In Colab\"/></a>"
      ]
    },
    {
      "cell_type": "markdown",
      "metadata": {
        "id": "4RNOwytpsTnf"
      },
      "source": [
        "\n",
        "\n",
        "# Introduction"
      ]
    },
    {
      "cell_type": "markdown",
      "metadata": {
        "id": "wxNsL-YjsXCX"
      },
      "source": [
        "Is this notebook there is the option to either train or load 4 additional models ontop of our model that we have created. These models where to compare their accuracy to our models accuracy and to also experiment with ensembling to see how the accuracy improved, which can be tested in the ensembling section."
      ]
    },
    {
      "cell_type": "markdown",
      "metadata": {
        "id": "-DOLUJWcsxmV"
      },
      "source": [
        "For the sake of speed, the training of the models can be skipped and the pretrained version can be fetched to save a substantial amount of time."
      ]
    },
    {
      "cell_type": "markdown",
      "metadata": {
        "id": "Zh3RClj9_Bf3"
      },
      "source": [
        "# Import Libraries (Required)"
      ]
    },
    {
      "cell_type": "markdown",
      "metadata": {
        "id": "pfKWvoZkAo_6"
      },
      "source": [
        "Import our essential Libraries\n"
      ]
    },
    {
      "cell_type": "code",
      "metadata": {
        "id": "AG7rSodLIfxn"
      },
      "source": [
        "import os\n",
        "import matplotlib.pyplot as plt\n",
        "import pickle\n",
        "\n",
        "import tensorflow as tf\n",
        "from tensorflow.keras.preprocessing.image import ImageDataGenerator\n",
        "from tensorflow.keras.applications.xception import Xception\n",
        "from tensorflow.keras.applications import InceptionV3, DenseNet121\n",
        "from tensorflow.keras.models import Sequential, Model\n",
        "from tensorflow.keras.layers import Dense, Conv2D, Flatten, Input, Average\n",
        "from tensorflow.keras.applications.resnet_v2 import ResNet50V2\n",
        "from tensorflow.keras.applications.vgg19 import VGG19\n",
        "\n",
        "libaryIsImported = True;"
      ],
      "execution_count": 6,
      "outputs": []
    },
    {
      "cell_type": "markdown",
      "metadata": {
        "id": "OWubS2Xl_FsF"
      },
      "source": [
        "# Fetch Dataset (Required)"
      ]
    },
    {
      "cell_type": "markdown",
      "metadata": {
        "id": "1GeonvJs6c_S"
      },
      "source": [
        "Some shell script to check if the data already exists, if not clone it from git.\n",
        "\n"
      ]
    },
    {
      "cell_type": "code",
      "metadata": {
        "id": "7_Spt-nH09kc",
        "colab": {
          "base_uri": "https://localhost:8080/"
        },
        "outputId": "a0cc5902-8f2a-4d81-9505-b88834c809fd"
      },
      "source": [
        "%%shell\n",
        "\n",
        "if [ ! -d '/tmp/pneumoniaDataset' ]; then \n",
        "  mkdir '/tmp/pneumoniaDataset'\n",
        "fi\n",
        "\n",
        "if [ ! -d '/tmp/pneumoniaDataset/.git' ]; then \n",
        "  git clone \"https://github.com/Amzo/xray_images\" '/tmp/pneumoniaDataset/'\n",
        "fi"
      ],
      "execution_count": 15,
      "outputs": [
        {
          "output_type": "stream",
          "text": [
            "Cloning into '/tmp/pneumoniaDataset'...\n",
            "remote: Enumerating objects: 5838, done.\u001b[K\n",
            "remote: Counting objects: 100% (3/3), done.\u001b[K\n",
            "remote: Total 5838 (delta 0), reused 3 (delta 0), pack-reused 5835\u001b[K\n",
            "Receiving objects: 100% (5838/5838), 1.13 GiB | 27.07 MiB/s, done.\n",
            "Checking out files: 100% (5857/5857), done.\n"
          ],
          "name": "stdout"
        },
        {
          "output_type": "execute_result",
          "data": {
            "text/plain": [
              ""
            ]
          },
          "metadata": {
            "tags": []
          },
          "execution_count": 15
        }
      ]
    },
    {
      "cell_type": "code",
      "metadata": {
        "id": "yqnKkQF7pVJF"
      },
      "source": [
        "dataIsFetched = True"
      ],
      "execution_count": 16,
      "outputs": []
    },
    {
      "cell_type": "markdown",
      "metadata": {
        "id": "edyvCsH3_WwQ"
      },
      "source": [
        "# Datasetup (Required)"
      ]
    },
    {
      "cell_type": "markdown",
      "metadata": {
        "id": "yBBFNcZTIhNH"
      },
      "source": [
        "Load our data and generate additional augmented data due to the nature of the small data set. Since the data is already structured into train, test and validate folders, we don't need to split the data here.\n"
      ]
    },
    {
      "cell_type": "code",
      "metadata": {
        "id": "RVNUu9ZmIs_n"
      },
      "source": [
        "def getData(trainDir, testDir, valDir):\n",
        "        class_names = os.listdir(trainDir)\n",
        "        class_types = len(os.listdir(trainDir))\n",
        "\n",
        "        print('Number of classes for Classification: ',class_types)\n",
        "        print(f'The class names are {class_names[0]} and {class_names[1]}')\n",
        "        print('--> Count of Train Images <--')\n",
        "\n",
        "        for i in class_names:\n",
        "                print(i + ':' + str(len(os.listdir(trainDir + \"/\" +i))))\n",
        "        print('--> Count of Test Images <--')\n",
        "\n",
        "        for i in class_names:\n",
        "                print(i + ':' + str(len(os.listdir(testDir + '/' +i))))\n",
        "\n",
        "        print('--> Count of Validation Images <---')\n",
        "        for i in class_names:\n",
        "                print(i + ':' + str(len(os.listdir(valDir + '/' +i))))\n",
        "\n",
        "        trainDatagen = ImageDataGenerator(rescale=1./255.0,\n",
        "                rotation_range=6,\n",
        "                zoom_range=0.3,\n",
        "                brightness_range= [0.8, 1.3],\n",
        "                horizontal_flip = True,\n",
        "                vertical_flip = True\n",
        "                )\n",
        "\n",
        "        testDatagen = ImageDataGenerator(rescale=1./255.0)\n",
        "\n",
        "        xTrainGen = trainDatagen.flow_from_directory(\n",
        "                trainDir,\n",
        "                target_size=(224,224),\n",
        "                shuffle=True,\n",
        "                batch_size=24,\n",
        "                class_mode='categorical'\n",
        "        )\n",
        "\n",
        "        xTestGen = testDatagen.flow_from_directory(\n",
        "                testDir,\n",
        "                target_size=(224,224),\n",
        "                batch_size=16,\n",
        "                shuffle=True,\n",
        "                class_mode='categorical'\n",
        "        )\n",
        "\n",
        "        xValGen = trainDatagen.flow_from_directory(\n",
        "                valDir,\n",
        "                target_size=(224,224),\n",
        "                batch_size=32,\n",
        "                class_mode='categorical'\n",
        "        )\n",
        "\n",
        "        return xTrainGen, xTestGen, xValGen"
      ],
      "execution_count": 13,
      "outputs": []
    },
    {
      "cell_type": "code",
      "metadata": {
        "id": "NAVccqMPJuE5",
        "colab": {
          "base_uri": "https://localhost:8080/"
        },
        "outputId": "a66f8d74-a51a-4333-b908-d214c11697ed"
      },
      "source": [
        "try:\n",
        "  dataIsFetched\n",
        "except NameError:\n",
        "  print(\"Data has not been fetched, run the fetch data cells\")\n",
        "else:\n",
        "  physical_devices = tf.config.experimental.list_physical_devices('GPU')\n",
        "  assert len(physical_devices) > 0, \"Not enough GPU hardware devices available\"\n",
        "\n",
        "\n",
        "  inputTrain = '/tmp/pneumoniaDataset/train'\n",
        "  inputTest = '/tmp/pneumoniaDataset/test'\n",
        "  inputValidate = '/tmp/pneumoniaDataset/val'\n",
        "\n",
        "  imageSize = (224,224,3)\n",
        "\n",
        "\n",
        "  xTrain, xTest, xVal = getData(inputTrain, inputTest, inputValidate)\n",
        "\n",
        "  dataIsSetup = True\n"
      ],
      "execution_count": 18,
      "outputs": [
        {
          "output_type": "stream",
          "text": [
            "Number of classes for Classification:  2\n",
            "The class names are PNEUMONIA and NORMAL\n",
            "--> Count of Train Images <--\n",
            "PNEUMONIA:3851\n",
            "NORMAL:1305\n",
            "--> Count of Test Images <--\n",
            "PNEUMONIA:390\n",
            "NORMAL:234\n",
            "--> Count of Validation Images <---\n",
            "PNEUMONIA:32\n",
            "NORMAL:44\n",
            "Found 5156 images belonging to 2 classes.\n",
            "Found 624 images belonging to 2 classes.\n",
            "Found 76 images belonging to 2 classes.\n"
          ],
          "name": "stdout"
        }
      ]
    },
    {
      "cell_type": "markdown",
      "metadata": {
        "id": "zhCmy4Xj_mgB"
      },
      "source": [
        "# Data Visualisation (Optional)"
      ]
    },
    {
      "cell_type": "code",
      "metadata": {
        "id": "IytTvLg7_qAp"
      },
      "source": [
        "def plotImages(images_arr):\n",
        "    fig, axes = plt.subplots(1, 5, figsize=(20,20))\n",
        "    axes = axes.flatten()\n",
        "    for img, ax in zip( images_arr, axes):\n",
        "        ax.imshow(img)\n",
        "    plt.tight_layout()\n",
        "    plt.show()"
      ],
      "execution_count": null,
      "outputs": []
    },
    {
      "cell_type": "code",
      "metadata": {
        "id": "2FiQHMJa_ubx"
      },
      "source": [
        "try:\n",
        "  dataIsSetup\n",
        "except NameError:\n",
        "  print(\"please execute the dataSetup section before training\")\n",
        "else:\n",
        "  augmentedImages = [xTrain[0][0][0] for i in range(5)]"
      ],
      "execution_count": null,
      "outputs": []
    },
    {
      "cell_type": "code",
      "metadata": {
        "id": "G79arOf5_vLy"
      },
      "source": [
        "plotImages(augmentedImages)"
      ],
      "execution_count": null,
      "outputs": []
    },
    {
      "cell_type": "markdown",
      "metadata": {
        "id": "nw27h6HZAbDE"
      },
      "source": [
        "# Model Setup (Optional)"
      ]
    },
    {
      "cell_type": "code",
      "metadata": {
        "id": "zAxXDWXii2e-"
      },
      "source": [
        "def myModel():\n",
        "  print(\"Defaulting to basic CNN\")\n",
        "  model = Sequential()\n",
        "  model.add(Conv2D(16, (3, 3), activation='relu', input_shape=(224,224,3)))\n",
        "  model.add(Conv2D(32, (3, 3), activation='relu'))\n",
        "  model.add(Conv2D(16, (3, 3), activation='relu'))\n",
        "  model.add(Flatten())\n",
        "  model.add(Dense(2,activation='softmax'))\n",
        "\n",
        "  model.compile(optimizer='adam',\n",
        "    loss=\"categorical_crossentropy\",\n",
        "    metrics=[\"accuracy\"])\n",
        "  \n",
        "  return model"
      ],
      "execution_count": 1,
      "outputs": []
    },
    {
      "cell_type": "code",
      "metadata": {
        "id": "NB4tKR7-IzTY"
      },
      "source": [
        "def modelBuild(inputShape, modelType):\n",
        "  model = Sequential()\n",
        "  if (modelType == \"xception\"):\n",
        "    print(\"Setting up xception model\")\n",
        "    xception = Xception(include_top=False,\n",
        "      weights= 'imagenet',\n",
        "      input_shape=inputShape,\n",
        "    )\n",
        "    model.add(xception)\n",
        "\n",
        "  elif (modelType == \"resnet\"):\n",
        "    print(\"Setting up resnet50 model\")\n",
        "    resnet = ResNet50V2(include_top=False,\n",
        "      weights= 'imagenet',\n",
        "      input_shape=inputShape,\n",
        "    )\n",
        "    model.add(resnet)\n",
        "\n",
        "  elif (modelType == \"vgg19\"):\n",
        "    print(\"Setting up vgg19 model\")\n",
        "    vgg = VGG19(include_top=False,\n",
        "      weights= 'imagenet',\n",
        "      input_shape=inputShape,\n",
        "    )\n",
        "    model.add(vgg)\n",
        "  elif (modelType == \"inception\"):\n",
        "    print(\"Setting up inception model\")\n",
        "    inception = InceptionV3(include_top=False,\n",
        "      weights= 'imagenet',\n",
        "      input_shape=inputShape,\n",
        "    )\n",
        "    model.add(inception)\n",
        "  elif (modelType == \"densenet\"):\n",
        "    print(\"Setting up densenet model\")\n",
        "    densenet = DenseNet121(include_top=False,\n",
        "      weights= 'imagenet',\n",
        "      input_shape=inputShape,\n",
        "    )\n",
        "    model.add(densenet)\n",
        "\n",
        "  model.add(Flatten())\n",
        "  model.add(Dense(512, activation=\"relu\"))\n",
        "  model.add(Dense(2,activation=\"softmax\"))\n",
        "\n",
        "  model.compile(optimizer=tf.keras.optimizers.RMSprop(lr=0.0001),\n",
        "    loss=\"categorical_crossentropy\",\n",
        "    metrics=[\"accuracy\"])\n",
        "\n",
        "  return model\n"
      ],
      "execution_count": 2,
      "outputs": []
    },
    {
      "cell_type": "code",
      "metadata": {
        "id": "qaCaLFPwWeC4",
        "colab": {
          "base_uri": "https://localhost:8080/"
        },
        "outputId": "ecf9d4d3-a045-475c-ab20-8756fa03b039"
      },
      "source": [
        "try:\n",
        "  libaryIsImported, dataIsSetup\n",
        "except NameError:\n",
        "  print(\"Libary has not been imported, or Data has not been setup, please run the libary and Data setup cells.\")\n",
        "else:\n",
        "  xception = modelBuild(imageSize, 'xception')\n",
        "  vgg19 = modelBuild(imageSize, 'vgg19')\n",
        "  resnet = modelBuild(imageSize, 'resnet')\n",
        "  inception = modelBuild(imageSize, 'inception')\n",
        "  densenet = modelBuild(imageSize, 'densenet')\n",
        "  myCNN = myModel()\n",
        "\n",
        "  modelsSetup = True"
      ],
      "execution_count": 19,
      "outputs": [
        {
          "output_type": "stream",
          "text": [
            "Setting up xception model\n",
            "Downloading data from https://storage.googleapis.com/tensorflow/keras-applications/xception/xception_weights_tf_dim_ordering_tf_kernels_notop.h5\n",
            "83689472/83683744 [==============================] - 3s 0us/step\n",
            "Setting up vgg19 model\n",
            "Downloading data from https://storage.googleapis.com/tensorflow/keras-applications/vgg19/vgg19_weights_tf_dim_ordering_tf_kernels_notop.h5\n",
            "80142336/80134624 [==============================] - 2s 0us/step\n",
            "Setting up resnet50 model\n",
            "Downloading data from https://storage.googleapis.com/tensorflow/keras-applications/resnet/resnet50v2_weights_tf_dim_ordering_tf_kernels_notop.h5\n",
            "94674944/94668760 [==============================] - 1s 0us/step\n",
            "Setting up inception model\n",
            "Downloading data from https://storage.googleapis.com/tensorflow/keras-applications/inception_v3/inception_v3_weights_tf_dim_ordering_tf_kernels_notop.h5\n",
            "87916544/87910968 [==============================] - 3s 0us/step\n",
            "Setting up densenet model\n",
            "Downloading data from https://storage.googleapis.com/tensorflow/keras-applications/densenet/densenet121_weights_tf_dim_ordering_tf_kernels_notop.h5\n",
            "29089792/29084464 [==============================] - 1s 0us/step\n",
            "Defaulting to basic CNN\n"
          ],
          "name": "stdout"
        }
      ]
    },
    {
      "cell_type": "markdown",
      "metadata": {
        "id": "00Ch1zUlI90P"
      },
      "source": [
        "# Train Models (Optional)"
      ]
    },
    {
      "cell_type": "code",
      "metadata": {
        "id": "9DkFgq_jJZoo"
      },
      "source": [
        "def modelTrain(model, xTrain, xVal, batchSize):\n",
        "  history = model.fit(xTrain,\n",
        "    epochs=10,\n",
        "    validation_data=xVal,\n",
        "    verbose=1,\n",
        "    batch_size=batchSize\n",
        "  )\n",
        "\n",
        "  return history, model"
      ],
      "execution_count": null,
      "outputs": []
    },
    {
      "cell_type": "markdown",
      "metadata": {
        "id": "xJScHMVXNNsQ"
      },
      "source": [
        "I could create a function to check if the models have been setup, but you can never be certain if a cell has been executed or not, so rely on global variables being true or false. This means duplication, but it's should reduce errors."
      ]
    },
    {
      "cell_type": "markdown",
      "metadata": {
        "id": "ojGIIzgYzOa8"
      },
      "source": [
        "Train the Inception Model"
      ]
    },
    {
      "cell_type": "code",
      "metadata": {
        "id": "ShyxwhvuFfIr"
      },
      "source": [
        "try:\n",
        "  modelsSetup\n",
        "except NameError:\n",
        "  print(\"please execute the model Setup section before training\")\n",
        "else:\n",
        "  inceptionHistoy, trainedInception = modelTrain(inception, xTrain, xVal, 32)\n"
      ],
      "execution_count": null,
      "outputs": []
    },
    {
      "cell_type": "markdown",
      "metadata": {
        "id": "drYkBM-0zRCx"
      },
      "source": [
        "Train the VGG model"
      ]
    },
    {
      "cell_type": "code",
      "metadata": {
        "id": "zVv-d5DQW66n"
      },
      "source": [
        "try:\n",
        "  modelsSetup\n",
        "except NameError:\n",
        "  print(\"please execute the model Setup section before training\")\n",
        "else:\n",
        "  vggHistory, trainedVGG = modelTrain(vgg19, xTrain, xVal, 32)\n"
      ],
      "execution_count": null,
      "outputs": []
    },
    {
      "cell_type": "markdown",
      "metadata": {
        "id": "lqc2GOP5zTib"
      },
      "source": [
        "Train the resnet model"
      ]
    },
    {
      "cell_type": "code",
      "metadata": {
        "id": "fNKvW-xEdfze"
      },
      "source": [
        "try:\n",
        "  modelsSetup\n",
        "except NameError:\n",
        "  print(\"please execute the model Setup section before training\")\n",
        "else:\n",
        "  resnetHistory, trainedResnet = modelTrain(resnet, xTrain, xVal, 32)\n"
      ],
      "execution_count": null,
      "outputs": []
    },
    {
      "cell_type": "markdown",
      "metadata": {
        "id": "jH6le3wBzWaE"
      },
      "source": [
        "Train our CNN model"
      ]
    },
    {
      "cell_type": "code",
      "metadata": {
        "id": "5rZf1FgsjtZH"
      },
      "source": [
        "try:\n",
        "  modelsSetup\n",
        "except NameError:\n",
        "  print(\"please execute the model Setup section before training\")\n",
        "else:\n",
        "  ourCNNHistory, trainedCNN = modelTrain(myCNN, xTrain, xVal, 32)"
      ],
      "execution_count": null,
      "outputs": []
    },
    {
      "cell_type": "markdown",
      "metadata": {
        "id": "2GnGzfB-DZEn"
      },
      "source": [
        "Train the xception model"
      ]
    },
    {
      "cell_type": "code",
      "metadata": {
        "id": "U5qH-s05GW6Q"
      },
      "source": [
        "try:\n",
        "  modelsSetup\n",
        "except NameError:\n",
        "  print(\"please execute the model Setup section before training\")\n",
        "else:\n",
        "  xceptionHistory, trainedXception = modelTrain(xception, xTrain, xVal, 32)"
      ],
      "execution_count": null,
      "outputs": []
    },
    {
      "cell_type": "markdown",
      "metadata": {
        "id": "oJrDgbAiDbPs"
      },
      "source": [
        "Train the densenet model"
      ]
    },
    {
      "cell_type": "code",
      "metadata": {
        "colab": {
          "base_uri": "https://localhost:8080/"
        },
        "id": "_O4MVWQADIb6",
        "outputId": "6815a9f1-3f66-4ee7-9b37-3055f5384169"
      },
      "source": [
        "try:\n",
        "  modelsSetup\n",
        "except NameError:\n",
        "  print(\"please execute the model Setup section before training\")\n",
        "else:\n",
        "  densenetHistory, trainedDensenet = modelTrain(densenet, xTrain, xVal, 32)"
      ],
      "execution_count": null,
      "outputs": [
        {
          "output_type": "stream",
          "text": [
            "Epoch 1/10\n",
            "215/215 [==============================] - 234s 836ms/step - loss: 0.8561 - accuracy: 0.8764 - val_loss: 26.4073 - val_accuracy: 0.4211\n",
            "Epoch 2/10\n",
            "215/215 [==============================] - 172s 798ms/step - loss: 0.1855 - accuracy: 0.9344 - val_loss: 131.5273 - val_accuracy: 0.4211\n",
            "Epoch 3/10\n",
            "215/215 [==============================] - 172s 800ms/step - loss: 0.1161 - accuracy: 0.9567 - val_loss: 11.7330 - val_accuracy: 0.7105\n",
            "Epoch 4/10\n",
            "215/215 [==============================] - 173s 803ms/step - loss: 0.1231 - accuracy: 0.9640 - val_loss: 3.9472 - val_accuracy: 0.7500\n",
            "Epoch 5/10\n",
            "215/215 [==============================] - 172s 798ms/step - loss: 0.1032 - accuracy: 0.9670 - val_loss: 6.6878 - val_accuracy: 0.6711\n",
            "Epoch 6/10\n",
            "215/215 [==============================] - 172s 799ms/step - loss: 0.1088 - accuracy: 0.9608 - val_loss: 5.0686 - val_accuracy: 0.8684\n",
            "Epoch 7/10\n",
            "215/215 [==============================] - 172s 797ms/step - loss: 0.0911 - accuracy: 0.9679 - val_loss: 0.3312 - val_accuracy: 0.9605\n",
            "Epoch 8/10\n",
            "215/215 [==============================] - 172s 798ms/step - loss: 0.0788 - accuracy: 0.9705 - val_loss: 147.0539 - val_accuracy: 0.4342\n",
            "Epoch 9/10\n",
            "215/215 [==============================] - 172s 801ms/step - loss: 0.0905 - accuracy: 0.9661 - val_loss: 0.3243 - val_accuracy: 0.9342\n",
            "Epoch 10/10\n",
            "215/215 [==============================] - 171s 795ms/step - loss: 0.0720 - accuracy: 0.9801 - val_loss: 0.0789 - val_accuracy: 0.9868\n"
          ],
          "name": "stdout"
        }
      ]
    },
    {
      "cell_type": "markdown",
      "metadata": {
        "id": "dTafmHjGPelh"
      },
      "source": [
        "# Save Trained Models (Optional)"
      ]
    },
    {
      "cell_type": "code",
      "metadata": {
        "id": "qhJ0NoZgQEWO",
        "colab": {
          "base_uri": "https://localhost:8080/"
        },
        "outputId": "12851a7d-f905-42c5-a7a9-15d8536c732c"
      },
      "source": [
        "from google.colab import drive\n",
        "drive.mount('/content/gdrive')"
      ],
      "execution_count": null,
      "outputs": [
        {
          "output_type": "stream",
          "text": [
            "Mounted at /content/gdrive\n"
          ],
          "name": "stdout"
        }
      ]
    },
    {
      "cell_type": "code",
      "metadata": {
        "id": "5H7hw9ONlDBY"
      },
      "source": [
        "try:\n",
        "  inceptionHistory.History\n",
        "except (AttributeError, NameError):\n",
        "  print(\"Have you trained the Inception model to save?\")\n",
        "else:\n",
        "  trainedInception.save('/content/gdrive/MyDrive/Inception')\n",
        "\n",
        "  with open('/content/gdrive/MyDrive/inceptionHistory.pickle', 'wb') as outFile:\n",
        "    pickle.dump(inceptionHistoy.history, outFile)"
      ],
      "execution_count": null,
      "outputs": []
    },
    {
      "cell_type": "code",
      "metadata": {
        "id": "JT_ErbE4Pi_h"
      },
      "source": [
        "try:\n",
        "  vggHistory.history\n",
        "except (AttributeError, NameError):\n",
        "  print(\"Have you trained the VGG model to save?\")\n",
        "else:\n",
        "  trainedVGG.save('/content/gdrive/MyDrive/VGG')\n",
        "\n",
        "  with open('/content/gdrive/MyDrive/vggHistory.pickle', 'wb') as outFile:\n",
        "    pickle.dump(vggHistory.history, outFile)\n",
        "  "
      ],
      "execution_count": null,
      "outputs": []
    },
    {
      "cell_type": "code",
      "metadata": {
        "id": "_tK-y-0gPuI6"
      },
      "source": [
        "try:\n",
        "  resnetHistory.History\n",
        "except (AttributeError, NameError):\n",
        "  print(\"Have you trained the resnet model to save?\")\n",
        "else:\n",
        "  trainedResnet.save('/content/gdrive/MyDrive/Resnet')\n",
        "  \n",
        "  with open('/content/gdrive/MyDrive/resnetHistory.pickle', 'wb') as outFile:\n",
        "    pickle.dump(resnetHistory.history, outFile)"
      ],
      "execution_count": null,
      "outputs": []
    },
    {
      "cell_type": "code",
      "metadata": {
        "id": "TLchU53DP8Js"
      },
      "source": [
        "try:\n",
        "  ourCNNHistory.history\n",
        "except (AttributeError, NameError):\n",
        "  print(\"Have you trained myCNN model to save?\")\n",
        "else:\n",
        "  trainedCNN.save('/content/gdrive/MyDrive/myCNN')\n",
        "\n",
        "  with open('/content/gdrive/MyDrive/ourCNNHistory.pickle', 'wb') as outFile:\n",
        "    pickle.dump(ourCNNHistory.history, outFile)"
      ],
      "execution_count": null,
      "outputs": []
    },
    {
      "cell_type": "code",
      "metadata": {
        "id": "mfktWugYPRSu",
        "colab": {
          "base_uri": "https://localhost:8080/"
        },
        "outputId": "b60ac3e4-0fd1-4c8d-8ef9-74d23a7b8af2"
      },
      "source": [
        "try:\n",
        "  xceptionHistory.history\n",
        "except (AttributeError, NameError):\n",
        "  print(\"Have you trained the Xception model to save?\")\n",
        "else:\n",
        "  trainedXception.save('/content/gdrive/MyDrive/xception')\n",
        "\n",
        "  with open('/content/gdrive/MyDrive/xceptionHistory.pickle', 'wb') as outFile:\n",
        "    pickle.dump(xceptionHistory.history, outFile)"
      ],
      "execution_count": null,
      "outputs": [
        {
          "output_type": "stream",
          "text": [
            "Have you trained the Xception model to save?\n"
          ],
          "name": "stdout"
        }
      ]
    },
    {
      "cell_type": "code",
      "metadata": {
        "colab": {
          "base_uri": "https://localhost:8080/"
        },
        "id": "S0soNbjgP3Sj",
        "outputId": "1465a873-32be-4ad2-e44e-a6befd4785ac"
      },
      "source": [
        "try:\n",
        "  densenetHistory.history\n",
        "except (AttributeError, NameError):\n",
        "  print(\"Have you trained the densenet model to save?\")\n",
        "else:\n",
        "  trainedDensenet.save('/content/gdrive/MyDrive/densenet')\n",
        "\n",
        "  with open('/content/gdrive/MyDrive/denseNetHistory.pickle', 'wb') as outFile:\n",
        "    pickle.dump(densenetHistory.history, outFile)"
      ],
      "execution_count": null,
      "outputs": [
        {
          "output_type": "stream",
          "text": [
            "INFO:tensorflow:Assets written to: /content/gdrive/MyDrive/densenet/assets\n"
          ],
          "name": "stdout"
        }
      ]
    },
    {
      "cell_type": "markdown",
      "metadata": {
        "id": "wPXRjxElvAUN"
      },
      "source": [
        "# Fetch Trained Models (Required)"
      ]
    },
    {
      "cell_type": "markdown",
      "metadata": {
        "id": "xpr86FHc5yOh"
      },
      "source": [
        "This shell script will fetch all the models and history from my one drive so that it can be loaded. Will save an hour or two over waiting for training to finish."
      ]
    },
    {
      "cell_type": "markdown",
      "metadata": {
        "id": "Hc4--Bgm5nwH"
      },
      "source": [
        "Shell variables don't appear to be reusable from other cells, so perform all the shell script in one cell."
      ]
    },
    {
      "cell_type": "code",
      "metadata": {
        "colab": {
          "base_uri": "https://localhost:8080/"
        },
        "id": "Lf8UQEGfvMTN",
        "outputId": "a305186a-5123-4a5c-984a-8fe979e0d11f"
      },
      "source": [
        "%%shell\n",
        "function extractModel() {\n",
        "  outDIR=\"/tmp/trainedModels/\"\n",
        "\n",
        "  # check if the directory exits, if not create it\n",
        "  if [ ! -d $outDIR ]; then \n",
        "    mkdir -p $outDIR; \n",
        "  fi\n",
        "\n",
        "  # extract the model\n",
        "  echo \"extracting ${1} to ${outDIR}\"\n",
        "  unzip -q -o -d $outDIR $1 \n",
        "}\n",
        "\n",
        "function getFile() {\n",
        "  googleURL=\"https://docs.google.com/uc?export=download\"\n",
        "  echo \"fetching file: ${2}\"\n",
        "  wgetCMD=\"wget --quiet --save-cookies /tmp/cookies.txt --keep-session-cookies --no-check-certificate\"\n",
        "  fileID=\"$1\"\n",
        "  outFILE=\"/tmp/$2\"\n",
        "\n",
        "  if [ -f $outFILE ]; then\n",
        "    rm -f $outFILE\n",
        "  fi\n",
        "  \n",
        "  wget  -q --load-cookies /tmp/cookies.txt \"$googleURL&confirm=$($wgetCMD \"$googleURL&id=$fileID\" -O- | sed -rn 's/.*confirm=([0-9A-Za-z_]+).*/\\1\\n/p')&id=$fileID\" -O $outFILE\n",
        "  rm -rf /tmp/cookies.txt\n",
        "  \n",
        "  if [ ${outFILE##*.} == \"zip\" ]; then\n",
        "    extractModel $outFILE\n",
        "  fi\n",
        "}\n",
        "\n",
        "# inception model\n",
        "getFile \"185GypHJV8sTcL3siYXinoClbXP0OEYr1\" \"trainedInception.zip\"\n",
        "\n",
        "# inception history\n",
        "getFile \"1kqAMFgH5H-_k1cKYuuatSuZiG-xtajh_\" \"inceptionHistory.pickle\"\n",
        "\n",
        "# vgg model\n",
        "getFile \"163-EY3aU6_7OP0Ds2Gq4bIu9r84f4txJ\" \"trainedVgg.zip\"\n",
        "\n",
        "# vgg history\n",
        "getFile \"1-0H4ZjHitt8FMC1ZjZun1wlXrFMjFE5N\" \"vggHistory.pickle\"\n",
        "\n",
        "# resnet model\n",
        "getFile \"1E4pHn5-4-9VXDIdlk9qFZya1TjL_u3P-\" \"trainedResnet.zip\"\n",
        "\n",
        "# resnet history\n",
        "getFile \"1-0nN6H7lMCNPD4tlS_CXD1JMEXPcFnc9\" \"resnetHistory.pickle\"\n",
        "\n",
        "# myCNN model\n",
        "getFile \"16Ko5GLm4D3jz6F7s85FkoqCDrI4vUeiV\" \"trainedCNN.zip\"\n",
        "\n",
        "# myCNN history\n",
        "getFile \"1-BFAv4_m3fwlYLgWCWbziSQPplKlGfvQ\" \"ourCNNHistory.pickle\"\n",
        "\n",
        "# xception model\n",
        "getFile \"1qqRKAyN5lowZ3VE8cQZWBU54eP-QA9q-\" \"trainedXception.zip\"\n",
        "\n",
        "# xception history\n",
        "getFile \"1-HHmEafOoAMlYXngAS8sjagA-Evlc3n9\" \"xceptionHistory.pickle\"\n",
        "\n",
        "# denseNet model\n",
        "getFile \"1s0-_3tjqw49qt9kJNwLqLbnTnld-QyR5\" \"traineddenseNet.zip\"\n",
        "\n",
        "# denseNet history\n",
        "getFile \"1-I36nyZPm8lZJG4R9Qwf-Csrp3QOE4l8\" \"densenetHistory.pickle\""
      ],
      "execution_count": null,
      "outputs": [
        {
          "output_type": "stream",
          "text": [
            "fetching file: trainedInception.zip\n",
            "extracting /tmp/trainedInception.zip to /tmp/trainedModels/\n",
            "fetching file: inceptionHistory.pickle\n",
            "fetching file: trainedVgg.zip\n",
            "extracting /tmp/trainedVgg.zip to /tmp/trainedModels/\n",
            "fetching file: vggHistory.pickle\n",
            "fetching file: trainedResnet.zip\n",
            "extracting /tmp/trainedResnet.zip to /tmp/trainedModels/\n",
            "fetching file: resnetHistory.pickle\n",
            "fetching file: trainedCNN.zip\n",
            "extracting /tmp/trainedCNN.zip to /tmp/trainedModels/\n",
            "fetching file: ourCNNHistory.pickle\n",
            "fetching file: trainedXception.zip\n",
            "extracting /tmp/trainedXception.zip to /tmp/trainedModels/\n",
            "fetching file: xceptionHistory.pickle\n",
            "fetching file: traineddenseNet.zip\n",
            "extracting /tmp/traineddenseNet.zip to /tmp/trainedModels/\n",
            "fetching file: densenetHistory.pickle\n"
          ],
          "name": "stdout"
        },
        {
          "output_type": "execute_result",
          "data": {
            "text/plain": [
              ""
            ]
          },
          "metadata": {
            "tags": []
          },
          "execution_count": 29
        }
      ]
    },
    {
      "cell_type": "code",
      "metadata": {
        "id": "twWwJ9AY6_SY"
      },
      "source": [
        "modelsAreFetched = True"
      ],
      "execution_count": null,
      "outputs": []
    },
    {
      "cell_type": "markdown",
      "metadata": {
        "id": "yst13qUP7EpW"
      },
      "source": [
        "# Load Models (Required)"
      ]
    },
    {
      "cell_type": "code",
      "metadata": {
        "id": "N48GiZSj7HY6"
      },
      "source": [
        "historyList = [\"inceptionHistory\", \"vggHistory\", \"resnetHistory\", \"ourCNNHistory\", \"xceptionHistory\", \"densenetHistory\"]"
      ],
      "execution_count": null,
      "outputs": []
    },
    {
      "cell_type": "code",
      "metadata": {
        "id": "L5hAZTnh7gHO"
      },
      "source": [
        "modelList = [\"Inception\", \"Resnet\", \"VGG\", \"myCNN\", \"xception\", \"traineddenseNet\"]"
      ],
      "execution_count": null,
      "outputs": []
    },
    {
      "cell_type": "code",
      "metadata": {
        "id": "COQ3DIEn7rfI",
        "colab": {
          "base_uri": "https://localhost:8080/"
        },
        "outputId": "bfc1e665-9e12-4822-f64c-2c4d7306f4eb"
      },
      "source": [
        "try:\n",
        "  modelsAreFetched\n",
        "except NameError:\n",
        "  print(\"You need to fetch the models to load them\")\n",
        "else:\n",
        "  for pickleFile in historyList:\n",
        "    with open('/tmp/' + pickleFile + '.pickle', 'rb') as input:\n",
        "      if (pickleFile == \"inceptionHistory\"):\n",
        "        print(\"Loading history file: \" + pickleFile)\n",
        "        inceptionHistory = pickle.load(input)\n",
        "      elif (pickleFile == \"resnetHistory\"):\n",
        "        print(\"Loading history file: \" + pickleFile)\n",
        "        resnetHistory = pickle.load(input)\n",
        "      elif (pickleFile == \"vggHistory\"):\n",
        "        print(\"Loading history file: \" + pickleFile)\n",
        "        vggHistory = pickle.load(input)\n",
        "      elif (pickleFile == \"ourCNNHistory\"):\n",
        "        print(\"Loading history file: \" + pickleFile)\n",
        "        myCNNHistory = pickle.load(input)\n",
        "      elif (pickleFile == \"xceptionHistory\"):\n",
        "        print(\"Loading history file: \" + pickleFile)\n",
        "        xceptionHistory = pickle.load(input)\n",
        "      elif (pickleFile == \"densenetHistory\"):\n",
        "        print(\"Loading history file: \" + pickleFile)\n",
        "        xceptionHistory = pickle.load(input)\n",
        "\n",
        "      historyIsFetched = True"
      ],
      "execution_count": null,
      "outputs": [
        {
          "output_type": "stream",
          "text": [
            "Loading history file: inceptionHistory\n",
            "Loading history file: vggHistory\n",
            "Loading history file: resnetHistory\n",
            "Loading history file: ourCNNHistory\n",
            "Loading history file: xceptionHistory\n",
            "Loading history file: densenetHistory\n"
          ],
          "name": "stdout"
        }
      ]
    },
    {
      "cell_type": "code",
      "metadata": {
        "id": "oZ0JdTHy8_q0",
        "colab": {
          "base_uri": "https://localhost:8080/"
        },
        "outputId": "82802413-6f0a-4ff7-fdba-7750d4ccb4ad"
      },
      "source": [
        "try:\n",
        "  modelsAreFetched\n",
        "except NameError:\n",
        "  print(\"You have to fetch the models before you can load them\")\n",
        "else:\n",
        "  for trainedModel in modelList:\n",
        "    print(\"Loading model \" + trainedModel)\n",
        "    if (trainedModel == \"Inception\"):\n",
        "      trainedInception = tf.keras.models.load_model('/tmp/trainedModels/' + trainedModel)\n",
        "    elif (trainedModel == \"Resnet\"):\n",
        "      trainedResnet = tf.keras.models.load_model('/tmp/trainedModels/' + trainedModel)\n",
        "    elif (trainedModel == \"VGG\"):\n",
        "      trainedVGG = tf.keras.models.load_model('/tmp/trainedModels/' + trainedModel)\n",
        "    elif (trainedModel == \"myCNN\"):\n",
        "      trainedCNN = tf.keras.models.load_model('/tmp/trainedModels/' + trainedModel)\n",
        "    elif (trainedModel == \"xception\"):\n",
        "      trainedXception = tf.keras.models.load_model('/tmp/trainedModels/' + trainedModel)\n",
        "    elif (trainedModel == \"Densenet\"):\n",
        "      trainedXception = tf.keras.models.load_model('/tmp/trainedModels/' + trainedModel)"
      ],
      "execution_count": null,
      "outputs": [
        {
          "output_type": "stream",
          "text": [
            "Loading model Inception\n",
            "Loading model Resnet\n",
            "Loading model VGG\n",
            "Loading model myCNN\n",
            "Loading model xception\n",
            "Loading model traineddenseNet\n"
          ],
          "name": "stdout"
        }
      ]
    },
    {
      "cell_type": "markdown",
      "metadata": {
        "id": "Rj1yHyb6JCYF"
      },
      "source": [
        "# Test Models"
      ]
    },
    {
      "cell_type": "code",
      "metadata": {
        "id": "rmy7LbYNnY2q"
      },
      "source": [
        "def evaluateModel(model, testSet):\n",
        "  ev = model.evaluate(testSet)\n",
        "  print(\"\\n%s: %.f%%\" % (model.metrics_names[1], ev[1]*100))"
      ],
      "execution_count": null,
      "outputs": []
    },
    {
      "cell_type": "code",
      "metadata": {
        "id": "GkVU2VqwgLiZ",
        "colab": {
          "base_uri": "https://localhost:8080/"
        },
        "outputId": "fae07785-f465-48e7-9922-bbcc059ed6bf"
      },
      "source": [
        "try:\n",
        "  dataIsSetup\n",
        "except NameError:\n",
        "  print(\"Please run datasetup cells first\")\n",
        "else:\n",
        "  for trainedModel in modelList:\n",
        "      print(\"Running \" + trainedModel + \" against test set\")\n",
        "      if (trainedModel == \"Inception\"):\n",
        "        evaluateModel(trainedInception, xTest)\n",
        "      elif (trainedModel == \"Resnet\"):\n",
        "        evaluateModel(trainedResnet, xTest)\n",
        "      elif (trainedModel == \"VGG\"):\n",
        "        evaluateModel(trainedVGG, xTest)\n",
        "      elif (trainedModel == \"myCNN\"):\n",
        "        evaluateModel(trainedCNN, xTest)\n",
        "      elif (trainedModel == \"xception\"):\n",
        "        evaluateModel(trainedXception, xTest)\n",
        "      elif (trainedModel == \"traineddenseNet\"):\n",
        "        evaluateModel(trainedDensenet, xTest)"
      ],
      "execution_count": null,
      "outputs": [
        {
          "output_type": "stream",
          "text": [
            "Running Inception against test set\n",
            "39/39 [==============================] - 7s 166ms/step - loss: 0.5461 - accuracy: 0.9103\n",
            "\n",
            "accuracy: 91%\n",
            "Running Resnet against test set\n",
            "39/39 [==============================] - 6s 164ms/step - loss: 3.5268 - accuracy: 0.9151\n",
            "\n",
            "accuracy: 92%\n",
            "Running VGG against test set\n",
            "39/39 [==============================] - 7s 166ms/step - loss: 0.3756 - accuracy: 0.9022\n",
            "\n",
            "accuracy: 90%\n",
            "Running myCNN against test set\n",
            "39/39 [==============================] - 6s 152ms/step - loss: 0.8688 - accuracy: 0.7308\n",
            "\n",
            "accuracy: 73%\n",
            "Running xception against test set\n",
            "39/39 [==============================] - 7s 167ms/step - loss: 4.1356 - accuracy: 0.9183\n",
            "\n",
            "accuracy: 92%\n",
            "Running traineddenseNet against test set\n",
            "39/39 [==============================] - 7s 160ms/step - loss: 4.7883 - accuracy: 0.9327\n",
            "\n",
            "accuracy: 93%\n"
          ],
          "name": "stdout"
        }
      ]
    },
    {
      "cell_type": "markdown",
      "metadata": {
        "id": "SKW_CwJXBVdJ"
      },
      "source": [
        "# Model History Visualisation"
      ]
    },
    {
      "cell_type": "code",
      "metadata": {
        "id": "83txYOQHAwDW"
      },
      "source": [
        "def visualiseHistory(historyFile):\n",
        "  try:\n",
        "    plt.plot(historyFile.history['accuracy'], label='accuracy')\n",
        "    plt.plot(historyFile.history['val_accuracy'], label = 'val_accuracy')\n",
        "  except AttributeError:\n",
        "    plt.plot(historyFile['accuracy'], label='accuracy')\n",
        "    plt.plot(historyFile['val_accuracy'], label = 'val_accuracy')\n",
        "\n",
        "  plt.xlabel('Epoch')\n",
        "  plt.ylabel('Accuracy')\n",
        "  plt.ylim([0.5, 1])\n",
        "  plt.legend(loc='lower right')\n",
        "\n",
        "  test_loss, test_acc = trainedCNN.evaluate(xTest, verbose=2)"
      ],
      "execution_count": null,
      "outputs": []
    },
    {
      "cell_type": "code",
      "metadata": {
        "id": "YNgIMgwbBW6m"
      },
      "source": [
        "def visualiseLoss(historyFile):\n",
        "  # summarize history for loss\n",
        "  try:\n",
        "    plt.plot(historyFile.history['loss'])\n",
        "    plt.plot(historyFile.history['val_loss'])\n",
        "  except AttributeError:\n",
        "    plt.plot(historyFile['loss'])\n",
        "    plt.plot(historyFile['val_loss'])\n",
        "\n",
        "  plt.title('model loss')\n",
        "  plt.ylabel('loss')\n",
        "  plt.xlabel('epoch')\n",
        "  plt.legend(['train', 'test'], loc='upper left')\n",
        "  plt.show()"
      ],
      "execution_count": null,
      "outputs": []
    },
    {
      "cell_type": "code",
      "metadata": {
        "id": "W_AWDLmoBs3P"
      },
      "source": [
        "visualiseHistory(inceptionHistory)"
      ],
      "execution_count": null,
      "outputs": []
    },
    {
      "cell_type": "code",
      "metadata": {
        "id": "N0nkXs4qB-YC"
      },
      "source": [
        "visualiseLoss(inceptionHistory)"
      ],
      "execution_count": null,
      "outputs": []
    },
    {
      "cell_type": "code",
      "metadata": {
        "id": "FiQhlP4eCP7t"
      },
      "source": [
        "visualiseHistory(vggHistory)"
      ],
      "execution_count": null,
      "outputs": []
    },
    {
      "cell_type": "code",
      "metadata": {
        "id": "uZDWwiuDCsAS"
      },
      "source": [
        "visualiseLoss(vggHistory)"
      ],
      "execution_count": null,
      "outputs": []
    },
    {
      "cell_type": "code",
      "metadata": {
        "id": "woPIVez7CvCB"
      },
      "source": [
        "visualiseHistory(myCNNHistory)"
      ],
      "execution_count": null,
      "outputs": []
    },
    {
      "cell_type": "code",
      "metadata": {
        "id": "9UdY38jECzdy"
      },
      "source": [
        "visualiseLoss(myCNNHistory)"
      ],
      "execution_count": null,
      "outputs": []
    },
    {
      "cell_type": "code",
      "metadata": {
        "id": "9b2VRnQYC2LS"
      },
      "source": [
        "visualiseHistory(resnetHistory)"
      ],
      "execution_count": null,
      "outputs": []
    },
    {
      "cell_type": "code",
      "metadata": {
        "id": "sbpZcs1aC4Py"
      },
      "source": [
        "visualiseLoss(resnetHistory)"
      ],
      "execution_count": null,
      "outputs": []
    },
    {
      "cell_type": "code",
      "metadata": {
        "id": "h9APZSemC-Fw"
      },
      "source": [
        "visualiseHistory(xceptionHistory)"
      ],
      "execution_count": null,
      "outputs": []
    },
    {
      "cell_type": "code",
      "metadata": {
        "id": "K9Jv8dSFDAlH"
      },
      "source": [
        "visualiseLoss(xceptionHistory)"
      ],
      "execution_count": null,
      "outputs": []
    },
    {
      "cell_type": "markdown",
      "metadata": {
        "id": "2VCGKVPnD7oZ"
      },
      "source": [
        "# Ensembling"
      ]
    },
    {
      "cell_type": "code",
      "metadata": {
        "id": "W-kPAA2yE21t"
      },
      "source": [
        "def getVoting():\n",
        "  models = list()\n",
        "  models.append(trainedInception)\n",
        "  models.append(trainedVGG)\n",
        "  models.append(trainedResnet)\n",
        "  models.append(trainedCNN)\n",
        "  models.append(trainedXception)\n",
        "  models.append(trainedDensenet)\n",
        "\n",
        "  return models"
      ],
      "execution_count": null,
      "outputs": []
    },
    {
      "cell_type": "code",
      "metadata": {
        "id": "daY_7ikxFGDw"
      },
      "source": [
        "combinedModel = getVoting()"
      ],
      "execution_count": null,
      "outputs": []
    },
    {
      "cell_type": "code",
      "metadata": {
        "id": "4MdpWb4azOfa"
      },
      "source": [
        "modelInput = Input(shape=(224, 224, 3))\n",
        "modelOutputs = [model(modelInput) for model in combinedModel]\n",
        "ensembleOutput = Average()(modelOutputs)"
      ],
      "execution_count": null,
      "outputs": []
    },
    {
      "cell_type": "code",
      "metadata": {
        "id": "f-1kmCqiFVJB"
      },
      "source": [
        "ensembleModel = Model(inputs=modelInput, outputs=ensembleOutput, name='ensemble')"
      ],
      "execution_count": null,
      "outputs": []
    },
    {
      "cell_type": "code",
      "metadata": {
        "id": "i9Px2C7e6rr0"
      },
      "source": [
        "ensembleModel.compile(optimizer='adam',\n",
        "    loss=\"categorical_crossentropy\",\n",
        "    metrics=[\"accuracy\"])"
      ],
      "execution_count": null,
      "outputs": []
    },
    {
      "cell_type": "code",
      "metadata": {
        "colab": {
          "base_uri": "https://localhost:8080/"
        },
        "id": "uXRgv5_K7dnk",
        "outputId": "85d948ae-555d-418f-c51b-cbc22976e817"
      },
      "source": [
        "print(\"Running ensembled model against test set\")\n",
        "evaluateModel(ensembleModel, xTest)"
      ],
      "execution_count": null,
      "outputs": [
        {
          "output_type": "stream",
          "text": [
            "Running ensembled model against test set\n",
            "39/39 [==============================] - 36s 649ms/step - loss: 0.2495 - accuracy: 0.9344\n",
            "\n",
            "accuracy: 94%\n"
          ],
          "name": "stdout"
        }
      ]
    },
    {
      "cell_type": "markdown",
      "metadata": {
        "id": "BK7WVyUAGP2q"
      },
      "source": [
        "# Optional Data"
      ]
    },
    {
      "cell_type": "markdown",
      "metadata": {
        "id": "hsmp3kn9JpId"
      },
      "source": [
        "Shell script can't be reused, so redeclare getFile() here, I could either fetch the optional data with the model, or redo the function in python."
      ]
    },
    {
      "cell_type": "code",
      "metadata": {
        "colab": {
          "base_uri": "https://localhost:8080/"
        },
        "id": "35I8e7G2JhdU",
        "outputId": "f8d1db6d-a12d-49fd-e36c-c26b739b5ba8"
      },
      "source": [
        "%%shell\n",
        "function getFile() {\n",
        "  googleURL=\"https://docs.google.com/uc?export=download\"\n",
        "  echo \"fetching file: ${2}\"\n",
        "  wgetCMD=\"wget --quiet --save-cookies /tmp/cookies.txt --keep-session-cookies --no-check-certificate\"\n",
        "  fileID=\"$1\"\n",
        "  outFILE=\"/tmp/$2\"\n",
        "\n",
        "  if [ -f $outFILE ]; then\n",
        "    rm -f $outFILE\n",
        "  fi\n",
        "  \n",
        "  wget  -q --load-cookies /tmp/cookies.txt \"$googleURL&confirm=$($wgetCMD \"$googleURL&id=$fileID\" -O- | sed -rn 's/.*confirm=([0-9A-Za-z_]+).*/\\1\\n/p')&id=$fileID\" -O $outFILE\n",
        "  rm -rf /tmp/cookies.txt\n",
        "}\n",
        "\n",
        "getFile \"1E4cpJgj5ZTeqmInQw6UIAp4jXt2UU9Zo\" \"optionalData.zip\"\n",
        "\n",
        "outDIR=\"/tmp/optionalData/\"\n",
        "if [ ! -d $outDIR ]; then \n",
        "  mkdir -p $outDIR; \n",
        "fi\n",
        "unzip -q -o -d $outDIR \"/tmp/optionalData.zip\" "
      ],
      "execution_count": null,
      "outputs": [
        {
          "output_type": "stream",
          "text": [
            "fetching file: optionalData.zip\n"
          ],
          "name": "stdout"
        },
        {
          "output_type": "execute_result",
          "data": {
            "text/plain": [
              ""
            ]
          },
          "metadata": {
            "tags": []
          },
          "execution_count": 43
        }
      ]
    },
    {
      "cell_type": "markdown",
      "metadata": {
        "id": "9IokUkjfN89g"
      },
      "source": [
        "This is my sanity check to ensure that all the optional data has never been seen before."
      ]
    },
    {
      "cell_type": "code",
      "metadata": {
        "colab": {
          "base_uri": "https://localhost:8080/"
        },
        "id": "9afWTvGsK5ZR",
        "outputId": "dce4db13-c014-42a8-e8ea-eb79957ae1a3"
      },
      "source": [
        "%%shell\n",
        "\n",
        "hashFile=\"/tmp/hashes.txt\"\n",
        "optionalDataDir=\"/tmp/optionalData/test\"\n",
        "originalDataDir=\"/tmp/pneumoniaDataset\"\n",
        "\n",
        "if [ -f \"${hashFile}\" ]; then\n",
        "  rm \"${hashFile}\"\n",
        "fi\n",
        "\n",
        "if [ -d \"${optionalDataDir}\" ] || [ -d \"${originalDataDir}\" ]; then\n",
        "  echo \"Caching all file hashes\"\n",
        "  for x in $(ls ${originalDataDir}/*/*/* ); do\n",
        "      newMD5=$(md5sum ${x} | awk -F ' ' '{print $1}')\n",
        "      echo \"${newMD5}:${x}\" >> ${hashFile}\n",
        "  done\n",
        "  echo \"Caching done\"\n",
        "\n",
        "  echo \"Checking optional data against cached hashes\"\n",
        "  for i in $(ls ${optionalDataDir}/*/*); do\n",
        "    savedMD5=$(md5sum ${i} | awk -F ' ' '{print $1}')\n",
        "    if $(grep $savedMD5 /tmp/hashes.txt); then\n",
        "      fileName=$(grep $savedMD5 ${hashFile} | awf -F ':' '{print $2}')\n",
        "      echo \"Duplicate files ${i} and ${fileName}\"\n",
        "    fi\n",
        "  done\n",
        "  echo \"Check Complete\"\n",
        "else\n",
        "  echo \"Has the optional data and normal data been fetched?\"\n",
        "fi\n"
      ],
      "execution_count": null,
      "outputs": [
        {
          "output_type": "stream",
          "text": [
            "Caching all file hashes\n",
            "Caching done\n",
            "Checking optional data against cached hashes\n",
            "Check Complete\n"
          ],
          "name": "stdout"
        },
        {
          "output_type": "execute_result",
          "data": {
            "text/plain": [
              ""
            ]
          },
          "metadata": {
            "tags": []
          },
          "execution_count": 62
        }
      ]
    },
    {
      "cell_type": "code",
      "metadata": {
        "id": "ovIg6DVxGWLm"
      },
      "source": [
        "testData = '/tmp/optionalData/test'\n",
        "\n",
        "testDatagen = ImageDataGenerator(rescale=1./255.0)\n",
        "\n",
        "optionalTest = testDatagen.flow_from_directory(\n",
        "  testData,\n",
        "  target_size=(224,224),\n",
        "  batch_size=16,\n",
        "  shuffle=True,\n",
        "  class_mode='categorical'\n",
        ")"
      ],
      "execution_count": null,
      "outputs": []
    },
    {
      "cell_type": "code",
      "metadata": {
        "id": "D6OVRx-XTPZh"
      },
      "source": [
        "evaluateModel(trainedCNN, optionalTest)"
      ],
      "execution_count": null,
      "outputs": []
    },
    {
      "cell_type": "code",
      "metadata": {
        "id": "--qpOaIRLvEk"
      },
      "source": [
        "evaluateModel(trainedDensenet, optionalTest)"
      ],
      "execution_count": null,
      "outputs": []
    },
    {
      "cell_type": "code",
      "metadata": {
        "id": "s9chR5RfHSJz"
      },
      "source": [
        "evaluateModel(ensembleModel, optionalTest)"
      ],
      "execution_count": null,
      "outputs": []
    }
  ]
}